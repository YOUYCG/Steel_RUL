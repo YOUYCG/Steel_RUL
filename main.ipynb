{
 "cells": [
  {
   "cell_type": "markdown",
   "id": "19f57862",
   "metadata": {},
   "source": [
    "Importing libraries"
   ]
  },
  {
   "cell_type": "code",
   "execution_count": null,
   "id": "6a5514d6",
   "metadata": {},
   "outputs": [],
   "source": [
    "import pandas as pd \n",
    "import matplotlib.pyplot as plt\n",
    "import numpy as np \n",
    "import seaborn as sns \n",
    "import os \n",
    "import tensorflow as tf\n",
    "from tensorflow.keras.models import Sequential\n",
    "from tensorflow.keras.layers import Dense\n",
    "from sklearn.model_selection import train_test_split,cross_val_score\n",
    "from sklearn.preprocessing import StandardScaler\n",
    "from sklearn.metrics import r2_score,mean_squared_error\n",
    "from sklearn.model_selection import train_test_split\n",
    "from sklearn.ensemble import RandomForestRegressor \n",
    "from joblib import dump ,load\n",
    "plt.style.use('ggplot')\n",
    "fontdict = {\n",
    "    'family': 'sans-serif',\n",
    "    'color':  'black',\n",
    "    'weight': 'normal',\n",
    "    'size': 14,\n",
    "}\n"
   ]
  },
  {
   "cell_type": "markdown",
   "id": "65d07aca",
   "metadata": {},
   "source": [
    "Loading data"
   ]
  },
  {
   "cell_type": "code",
   "execution_count": null,
   "id": "d3cd9867",
   "metadata": {},
   "outputs": [],
   "source": [
    "df_1=pd.read_csv('gt_data.csv')"
   ]
  },
  {
   "cell_type": "code",
   "execution_count": null,
   "id": "19c378db",
   "metadata": {},
   "outputs": [],
   "source": [
    "df_1.info()"
   ]
  },
  {
   "cell_type": "code",
   "execution_count": null,
   "id": "2ff1350e",
   "metadata": {},
   "outputs": [],
   "source": [
    "df_1.shape"
   ]
  },
  {
   "cell_type": "code",
   "execution_count": null,
   "id": "78642e87",
   "metadata": {},
   "outputs": [],
   "source": [
    "df_1.isnull().sum()"
   ]
  },
  {
   "cell_type": "code",
   "execution_count": null,
   "id": "bc523b11",
   "metadata": {},
   "outputs": [],
   "source": [
    "df_1.columns"
   ]
  },
  {
   "cell_type": "code",
   "execution_count": null,
   "id": "98be6008",
   "metadata": {},
   "outputs": [],
   "source": [
    "df_3=df_1.copy()\n",
    "df_3.columns=['Sl. No.','Normalizing Temp','Through Hardening Temp','Through Hardening Time','Cooling Rate for Through Hardening','Carburization Temp',\n",
    "             'Carburization Time','Diffusion Temp','Diffusion time','Quenching Media Temp','Tempering Temp','Tempering Time','Cooling Rate for Tempering',\n",
    "             'C', 'Si', 'Mn', 'P', 'S', 'Ni', 'Cr', 'Cu', 'Mo','Reduction Ratio',\n",
    "              'Area Proportion of Inclusions Deformed by Plastic Work','Area Proportion of Inclusions Occurring in Discontinuous Array',\n",
    "              'Area Proportion of Isolated Inclusions','Fatigue Strength (10^7 Cycles)']"
   ]
  },
  {
   "cell_type": "code",
   "execution_count": null,
   "id": "00358298",
   "metadata": {},
   "outputs": [],
   "source": [
    "df_3.iloc[:,1:].describe().T"
   ]
  },
  {
   "cell_type": "markdown",
   "id": "67de38d3",
   "metadata": {},
   "source": [
    "Histogram of columns"
   ]
  },
  {
   "cell_type": "code",
   "execution_count": null,
   "id": "3e1d2ec9",
   "metadata": {},
   "outputs": [],
   "source": [
    "df_3.iloc[:,1:14].hist(figsize=(25,25))\n",
    "plt.suptitle('histogram of columns',fontsize=22)\n",
    "plt.show()"
   ]
  },
  {
   "cell_type": "markdown",
   "id": "ad23c08a",
   "metadata": {},
   "source": [
    "Correlation between diffrent features and Fatigue Strength\n",
    "green columns indicate positive correlation (Direct propotionalty)\n",
    "red columns indicate negative correlation (Inverse propotionality)"
   ]
  },
  {
   "cell_type": "code",
   "execution_count": null,
   "id": "cabcf1bf",
   "metadata": {},
   "outputs": [],
   "source": [
    "correlation = df_3.drop(columns=['Sl. No.','Fatigue Strength (10^7 Cycles)']).corrwith(df_3['Fatigue Strength (10^7 Cycles)'])\n",
    "correlation.sort_values(inplace=True)\n",
    "plt.figure(figsize=(14,7))\n",
    "plt.bar(correlation.index, correlation, color=['green' if val >= 0 else 'red' for val in correlation])\n",
    "plt.xlabel('Features')\n",
    "plt.ylabel('Correlation')\n",
    "plt.title('Correlation with Fatigue Strength')\n",
    "\n",
    "plt.xticks(rotation=45, ha='right',fontsize=14)\n",
    "plt.show()"
   ]
  },
  {
   "cell_type": "markdown",
   "id": "96e4f166",
   "metadata": {},
   "source": [
    "Data of top 10 fatigue strength sampels"
   ]
  },
  {
   "cell_type": "code",
   "execution_count": null,
   "id": "00eb8581",
   "metadata": {},
   "outputs": [],
   "source": [
    "df_3.sort_values('Fatigue Strength (10^7 Cycles)',ascending=False).head(10).iloc[:,:14]"
   ]
  },
  {
   "cell_type": "code",
   "execution_count": null,
   "id": "3ec28269",
   "metadata": {},
   "outputs": [],
   "source": [
    "df_3.sort_values('Fatigue Strength (10^7 Cycles)',ascending=False).head(10).iloc[:,14:]"
   ]
  },
  {
   "cell_type": "markdown",
   "id": "ef9e104b",
   "metadata": {},
   "source": [
    "Creating Regression Model"
   ]
  },
  {
   "cell_type": "markdown",
   "id": "34bc26d5",
   "metadata": {},
   "source": [
    "Spiltting data into train and test"
   ]
  },
  {
   "cell_type": "code",
   "execution_count": null,
   "id": "e102132c",
   "metadata": {},
   "outputs": [],
   "source": [
    "x=df_3.drop(columns=['Sl. No.','Fatigue Strength (10^7 Cycles)'])\n",
    "y=df_3['Fatigue Strength (10^7 Cycles)']"
   ]
  },
  {
   "cell_type": "code",
   "execution_count": null,
   "id": "d3293ce3",
   "metadata": {},
   "outputs": [],
   "source": [
    "x_train,x_test,y_train,y_test=train_test_split(x,y,test_size=.2,random_state=42)"
   ]
  },
  {
   "cell_type": "markdown",
   "id": "c468dc17",
   "metadata": {},
   "source": [
    "Creating a Random forest regression model"
   ]
  },
  {
   "cell_type": "code",
   "execution_count": null,
   "id": "5838fb3a",
   "metadata": {},
   "outputs": [],
   "source": [
    "forest_reg=RandomForestRegressor(n_estimators=100, max_depth=100)\n",
    "forest_reg.fit(x_train,y_train)"
   ]
  },
  {
   "cell_type": "code",
   "execution_count": null,
   "id": "33e82673",
   "metadata": {},
   "outputs": [],
   "source": [
    "y_pred_1=forest_reg.predict(x_test)\n",
    "rmse_forest=np.sqrt(mean_squared_error(y_test,y_pred_1))\n",
    "r2_forest=r2_score(y_test,y_pred_1)\n",
    "scores = cross_val_score(forest_reg, x, y, cv=5, scoring='neg_mean_squared_error')\n",
    "rmse_scores = np.sqrt(-scores)\n",
    "\n",
    "print('RMSE for Random Forest:',rmse_scores.mean()) \n",
    "print('R squared for Random Forest:',r2_forest) "
   ]
  },
  {
   "cell_type": "markdown",
   "id": "a2e162a0",
   "metadata": {},
   "source": [
    "Feature that has affects Fatigue Strength most"
   ]
  },
  {
   "cell_type": "code",
   "execution_count": null,
   "id": "47d0e507",
   "metadata": {},
   "outputs": [],
   "source": [
    "labels=x_train.columns\n",
    "importanes=forest_reg.feature_importances_\n",
    "importance_dict=dict(zip(labels,importanes))\n",
    "importance_series=pd.Series(importance_dict)\n",
    "importance_series=importance_series.sort_values(ascending=True)\n",
    "plt.figure(figsize=(12,9))\n",
    "importance_series.plot(kind='barh')\n",
    "plt.title('Features that affect Fatigue Strength most',fontsize=16)\n",
    "plt.xticks(fontsize=14)\n",
    "plt.yticks(fontsize=14)\n",
    "plt.xlabel('Effect',fontdict=fontdict)\n",
    "plt.show()"
   ]
  },
  {
   "cell_type": "markdown",
   "id": "938dbd83",
   "metadata": {},
   "source": [
    "Creating a Artifitial Neural Network for regression"
   ]
  },
  {
   "cell_type": "code",
   "execution_count": null,
   "id": "ce510300",
   "metadata": {},
   "outputs": [],
   "source": [
    "from sklearn.preprocessing import MinMaxScaler \n",
    "scaler = MinMaxScaler()\n",
    "scaler_1 = MinMaxScaler()\n",
    "\n",
    "X_train_scaled = scaler.fit_transform(x_train.values)\n",
    "X_test_scaled = scaler.transform(x_test.values)\n",
    "y_train_scaled=scaler_1.fit_transform(y_train.values.reshape(-1,1))\n",
    "y_test_scaled=scaler_1.transform(y_test.values.reshape(-1,1))"
   ]
  },
  {
   "cell_type": "code",
   "execution_count": null,
   "id": "d18a48ef",
   "metadata": {},
   "outputs": [],
   "source": [
    "model = Sequential([\n",
    "    Dense(64, activation='relu', input_shape=(x_train.shape[1],)),\n",
    "    Dense(32, activation='relu'),\n",
    "    Dense(16, activation='relu'),\n",
    "    Dense(8, activation='relu'),\n",
    "    Dense(1)  # Output layer with 1 neuron for regression\n",
    "])\n",
    "from keras.callbacks  import EarlyStopping \n",
    "early_stopping=EarlyStopping(restore_best_weights=True,monitor='val_mse',mode='min',patience=40,verbose=1)\n",
    "model.compile(optimizer='adam', loss='mean_squared_error',metrics=['mse'])\n",
    "history = model.fit(X_train_scaled, y_train_scaled, epochs=200, batch_size=32, validation_split=0.2,callbacks=[early_stopping])\n"
   ]
  },
  {
   "cell_type": "code",
   "execution_count": null,
   "id": "5c58d994",
   "metadata": {},
   "outputs": [],
   "source": [
    "def plot_loss_and_mse_curves(history):\n",
    "    \"\"\"\n",
    "    Plots the loss and MSE curves from a model's training history.\n",
    "\n",
    "    Parameters:\n",
    "    - history: The history object returned by the fit method of a Keras model.\n",
    "               It should contain the keys 'loss', 'val_loss', 'mse', and 'val_mse'.\n",
    "    \"\"\"\n",
    "    # Get the values from the history\n",
    "    loss = history.history['loss']\n",
    "    val_loss = history.history['val_loss']\n",
    "    mse = history.history.get('mse')\n",
    "    val_mse = history.history.get('val_mse')\n",
    "    \n",
    "    epochs = range(1, len(loss) + 1)\n",
    "\n",
    "    # Plot the loss values\n",
    "    plt.figure(figsize=(12, 6))\n",
    "\n",
    "#     plt.subplot(1, 2, 1)\n",
    "    plt.plot(epochs, loss, 'b', label='Training Loss')\n",
    "    plt.plot(epochs, val_loss, 'r', label='Validation Loss')\n",
    "    plt.title('Training and Validation Loss')\n",
    "    plt.xlabel('Epochs')\n",
    "    plt.ylabel('Loss')\n",
    "    plt.legend()\n",
    "\n",
    "    # Plot the MSE values if they exist\n",
    "#     if mse and val_mse:\n",
    "#         plt.subplot(1, 2, 2)\n",
    "#         plt.plot(epochs, mse, 'b', label='Training MSE')\n",
    "#         plt.plot(epochs, val_mse, 'r', label='Validation MSE')\n",
    "#         plt.title('Training and Validation MSE')\n",
    "#         plt.xlabel('Epochs')\n",
    "#         plt.ylabel('Mean Squared Error')\n",
    "#         plt.legend()\n",
    "\n",
    "#     plt.tight_layout()\n",
    "#     plt.show()\n"
   ]
  },
  {
   "cell_type": "code",
   "execution_count": null,
   "id": "e13ae65c",
   "metadata": {},
   "outputs": [],
   "source": [
    "plot_loss_and_mse_curves(history)"
   ]
  },
  {
   "cell_type": "code",
   "execution_count": null,
   "id": "48c54d39",
   "metadata": {},
   "outputs": [],
   "source": [
    "y_pred_2=model.predict(X_test_scaled)\n",
    "print('R squared for Artificial neural network: ',r2_score(scaler_1.inverse_transform(y_test_scaled),scaler_1.inverse_transform(y_pred_2)))\n",
    "print('RMSE for Artificial neural network: ',np.sqrt(mean_squared_error(scaler_1.inverse_transform(y_test_scaled),scaler_1.inverse_transform(y_pred_2))))"
   ]
  },
  {
   "cell_type": "markdown",
   "id": "4b6ea1e5",
   "metadata": {},
   "source": [
    "R squared score is higher for Random forest and rmse is lower for it than Artificial neural network so we will save it to use it later for streamlit app"
   ]
  },
  {
   "cell_type": "code",
   "execution_count": null,
   "id": "dee5a076",
   "metadata": {},
   "outputs": [],
   "source": [
    "dump(forest_reg,'forest_reg.joblib')"
   ]
  },
  {
   "cell_type": "code",
   "execution_count": null,
   "id": "5e3e535a",
   "metadata": {},
   "outputs": [],
   "source": [
    "import pickle \n",
    "pickle.dump(model,open('ann_model.pkl','wb'))"
   ]
  },
  {
   "cell_type": "code",
   "execution_count": null,
   "id": "6b3fad1f",
   "metadata": {},
   "outputs": [],
   "source": [
    "model_1=pickle.load(open('ann_model.pkl','rb'))\n",
    "model_1 "
   ]
  },
  {
   "cell_type": "code",
   "execution_count": null,
   "id": "4a132ee0",
   "metadata": {},
   "outputs": [],
   "source": [
    "y_pred_3=model_1.predict(X_test_scaled)\n",
    "print('R squared for Artificial neural network: ',r2_score(scaler_1.inverse_transform(y_test_scaled),scaler_1.inverse_transform(y_pred_3)))\n",
    "print('RMSE for Artificial neural network: ',np.sqrt(mean_squared_error(scaler_1.inverse_transform(y_test_scaled),scaler_1.inverse_transform(y_pred_3))))"
   ]
  }
 ],
 "metadata": {
  "language_info": {
   "name": "python"
  }
 },
 "nbformat": 4,
 "nbformat_minor": 5
}
